{
 "cells": [
  {
   "cell_type": "code",
   "execution_count": 1,
   "metadata": {},
   "outputs": [
    {
     "name": "stderr",
     "output_type": "stream",
     "text": [
      "E:\\dsls 2023\\New folder\\dsls-env\\lib\\site-packages\\tqdm\\auto.py:22: TqdmWarning: IProgress not found. Please update jupyter and ipywidgets. See https://ipywidgets.readthedocs.io/en/stable/user_install.html\n",
      "  from .autonotebook import tqdm as notebook_tqdm\n"
     ]
    }
   ],
   "source": [
    "from functools import partial\n",
    "import joblib\n",
    "import numpy as np\n",
    "import pandas as pd\n",
    "from sklearn.model_selection import StratifiedKFold\n",
    "from sklearn.linear_model import LogisticRegression\n",
    "from sklearn.metrics import f1_score, confusion_matrix, classification_report\n",
    "from imblearn.over_sampling import SMOTE\n",
    "import optuna\n",
    "\n",
    "import warnings\n",
    "\n",
    "warnings.filterwarnings('ignore')"
   ]
  },
  {
   "attachments": {},
   "cell_type": "markdown",
   "metadata": {},
   "source": [
    "## Get Data"
   ]
  },
  {
   "cell_type": "code",
   "execution_count": 2,
   "metadata": {},
   "outputs": [
    {
     "name": "stdout",
     "output_type": "stream",
     "text": [
      "<class 'pandas.core.frame.DataFrame'>\n",
      "RangeIndex: 102322 entries, 0 to 102321\n",
      "Data columns (total 18 columns):\n",
      " #   Column            Non-Null Count   Dtype  \n",
      "---  ------            --------------   -----  \n",
      " 0   level             102322 non-null  int64  \n",
      " 1   median_length     102322 non-null  float64\n",
      " 2   median_delay      102322 non-null  float64\n",
      " 3   median_speed_kmh  102322 non-null  float64\n",
      " 4   total_records     102322 non-null  int64  \n",
      " 5   isWeekend         102322 non-null  int64  \n",
      " 6   longitude         102322 non-null  float64\n",
      " 7   latitude          102322 non-null  float64\n",
      " 8   isRushHour        102322 non-null  int64  \n",
      " 9   hour_sin          102322 non-null  float64\n",
      " 10  hour_cos          102322 non-null  float64\n",
      " 11  day_sin           102322 non-null  float64\n",
      " 12  day_cos           102322 non-null  float64\n",
      " 13  week_sin          102322 non-null  float64\n",
      " 14  week_cos          102322 non-null  float64\n",
      " 15  month_sin         102322 non-null  float64\n",
      " 16  month_cos         102322 non-null  float64\n",
      " 17  is_train          102322 non-null  int64  \n",
      "dtypes: float64(13), int64(5)\n",
      "memory usage: 14.1 MB\n"
     ]
    }
   ],
   "source": [
    "jams = pd.read_csv('./../dataset/jams_bogor.csv')\n",
    "jams.info()"
   ]
  },
  {
   "cell_type": "code",
   "execution_count": 3,
   "metadata": {},
   "outputs": [],
   "source": [
    "# Sorting Columns\n",
    "col_feature = list(set(jams.columns) - set(['level']))\n",
    "col_feature.sort() \n",
    "\n",
    "features = jams[col_feature].copy()\n",
    "labels = jams['level'].copy()"
   ]
  },
  {
   "cell_type": "code",
   "execution_count": 4,
   "metadata": {},
   "outputs": [
    {
     "data": {
      "text/plain": [
       "1    54.132326\n",
       "2    30.335212\n",
       "3    15.532462\n",
       "Name: level, dtype: float64"
      ]
     },
     "execution_count": 4,
     "metadata": {},
     "output_type": "execute_result"
    }
   ],
   "source": [
    "X_train = features.loc[jams.is_train==1]\n",
    "y_train = labels.loc[jams.is_train==1]\n",
    "X_test = features.loc[jams.is_train==0]\n",
    "y_test = labels.loc[jams.is_train==0]\n",
    "\n",
    "y_test.value_counts()  / y_test.shape[0] * 100"
   ]
  },
  {
   "attachments": {},
   "cell_type": "markdown",
   "metadata": {},
   "source": [
    "## Hyperparameter Tuning with Optuna"
   ]
  },
  {
   "cell_type": "code",
   "execution_count": 5,
   "metadata": {},
   "outputs": [],
   "source": [
    "\n",
    "def objective(trial, X, y):\n",
    "\n",
    "    # parameter space\n",
    "    sm_neighbors = trial.suggest_int('sm_neighbors', 3, 9)\n",
    "    c = trial.suggest_float('C', 0.0, 5.0)\n",
    "    penalty = trial.suggest_categorical('penalty', [None, 'l2'])\n",
    "    \n",
    "    \n",
    "    sm = SMOTE(k_neighbors = sm_neighbors, random_state = 123)\n",
    "    X_sm, y_sm = sm.fit_resample(X, y)\n",
    "    model = LogisticRegression(C = c, penalty = penalty)\n",
    "    \n",
    "    \n",
    "    f1_scores = []\n",
    "    skf = StratifiedKFold(n_splits=5, shuffle=True, random_state=123)\n",
    "    for train_idx, val_idx in skf.split(X, y):\n",
    "        X_train = X.iloc[train_idx]\n",
    "        y_train = y.iloc[train_idx]\n",
    "        X_val = X.iloc[val_idx]\n",
    "        y_val = y.iloc[val_idx]\n",
    "\n",
    "        X_sm, y_sm = sm.fit_resample(X_train, y_train)\n",
    "        model.fit(X_sm, y_sm)\n",
    "\n",
    "        y_pred = model.predict(X_val)\n",
    "        f1 = f1_score(y_val, y_pred, average='macro')\n",
    "        f1_scores.append(f1)\n",
    "\n",
    "\n",
    "    return np.mean(f1_scores)"
   ]
  },
  {
   "cell_type": "code",
   "execution_count": 6,
   "metadata": {},
   "outputs": [
    {
     "name": "stderr",
     "output_type": "stream",
     "text": [
      "\u001b[32m[I 2023-03-01 18:53:29,928]\u001b[0m A new study created in memory with name: no-name-692f3ca7-435d-415e-a632-89815b560133\u001b[0m\n",
      "\u001b[32m[I 2023-03-01 18:53:44,946]\u001b[0m Trial 0 finished with value: 0.7862172307162365 and parameters: {'sm_ratio': 0.5550215255398996, 'sm_neighbors': 5, 'C': 1.8199131863016738, 'penalty': None}. Best is trial 0 with value: 0.7862172307162365.\u001b[0m\n",
      "\u001b[32m[I 2023-03-01 18:54:01,493]\u001b[0m Trial 1 finished with value: 0.7862272662035752 and parameters: {'sm_ratio': 0.6784196827802418, 'sm_neighbors': 6, 'C': 3.1440006543627526, 'penalty': None}. Best is trial 1 with value: 0.7862272662035752.\u001b[0m\n",
      "\u001b[32m[I 2023-03-01 18:54:15,198]\u001b[0m Trial 2 finished with value: 0.786030036960118 and parameters: {'sm_ratio': 0.5499466216820574, 'sm_neighbors': 8, 'C': 4.945569955667482, 'penalty': None}. Best is trial 1 with value: 0.7862272662035752.\u001b[0m\n",
      "\u001b[32m[I 2023-03-01 18:54:32,270]\u001b[0m Trial 3 finished with value: 0.7866921079092093 and parameters: {'sm_ratio': 0.9533014438247649, 'sm_neighbors': 5, 'C': 3.6336964653455324, 'penalty': 'l2'}. Best is trial 3 with value: 0.7866921079092093.\u001b[0m\n",
      "\u001b[32m[I 2023-03-01 18:54:50,184]\u001b[0m Trial 4 finished with value: 0.7862172307162365 and parameters: {'sm_ratio': 0.5554678534380231, 'sm_neighbors': 5, 'C': 2.4961241572446466, 'penalty': None}. Best is trial 3 with value: 0.7866921079092093.\u001b[0m\n",
      "\u001b[32m[I 2023-03-01 18:55:05,092]\u001b[0m Trial 5 finished with value: 0.7865681564781758 and parameters: {'sm_ratio': 0.3511341847844821, 'sm_neighbors': 3, 'C': 4.299844734446165, 'penalty': 'l2'}. Best is trial 3 with value: 0.7866921079092093.\u001b[0m\n",
      "\u001b[32m[I 2023-03-01 18:55:20,561]\u001b[0m Trial 6 finished with value: 0.7862180193564117 and parameters: {'sm_ratio': 0.6544876341956625, 'sm_neighbors': 7, 'C': 4.085925622774987, 'penalty': 'l2'}. Best is trial 3 with value: 0.7866921079092093.\u001b[0m\n",
      "\u001b[32m[I 2023-03-01 18:55:34,881]\u001b[0m Trial 7 finished with value: 0.7859849111509095 and parameters: {'sm_ratio': 0.3111701223351555, 'sm_neighbors': 4, 'C': 4.147351846344382, 'penalty': None}. Best is trial 3 with value: 0.7866921079092093.\u001b[0m\n",
      "\u001b[32m[I 2023-03-01 18:55:48,784]\u001b[0m Trial 8 finished with value: 0.7865044986878138 and parameters: {'sm_ratio': 0.3918790310088074, 'sm_neighbors': 3, 'C': 0.9027837431442098, 'penalty': 'l2'}. Best is trial 3 with value: 0.7866921079092093.\u001b[0m\n",
      "\u001b[32m[I 2023-03-01 18:56:02,680]\u001b[0m Trial 9 finished with value: 0.7869496858112687 and parameters: {'sm_ratio': 0.9327821000982957, 'sm_neighbors': 3, 'C': 4.805794046023033, 'penalty': 'l2'}. Best is trial 9 with value: 0.7869496858112687.\u001b[0m\n",
      "\u001b[32m[I 2023-03-01 18:56:15,892]\u001b[0m Trial 10 finished with value: 0.786013731807597 and parameters: {'sm_ratio': 0.9986497898166176, 'sm_neighbors': 9, 'C': 4.959042322945595, 'penalty': 'l2'}. Best is trial 9 with value: 0.7869496858112687.\u001b[0m\n",
      "\u001b[32m[I 2023-03-01 18:56:29,133]\u001b[0m Trial 11 finished with value: 0.7863660435265872 and parameters: {'sm_ratio': 0.9927404941166809, 'sm_neighbors': 4, 'C': 3.405857674724335, 'penalty': 'l2'}. Best is trial 9 with value: 0.7869496858112687.\u001b[0m\n",
      "\u001b[32m[I 2023-03-01 18:56:42,662]\u001b[0m Trial 12 finished with value: 0.7863740246399307 and parameters: {'sm_ratio': 0.8660626176271493, 'sm_neighbors': 5, 'C': 3.346798553942424, 'penalty': 'l2'}. Best is trial 9 with value: 0.7869496858112687.\u001b[0m\n",
      "\u001b[32m[I 2023-03-01 18:56:55,938]\u001b[0m Trial 13 finished with value: 0.7863942646031342 and parameters: {'sm_ratio': 0.8377733274044004, 'sm_neighbors': 3, 'C': 4.015166811269816, 'penalty': 'l2'}. Best is trial 9 with value: 0.7869496858112687.\u001b[0m\n",
      "\u001b[32m[I 2023-03-01 18:57:09,914]\u001b[0m Trial 14 finished with value: 0.7861167437773396 and parameters: {'sm_ratio': 0.8416032063436254, 'sm_neighbors': 6, 'C': 0.2723562176050436, 'penalty': 'l2'}. Best is trial 9 with value: 0.7869496858112687.\u001b[0m\n",
      "\u001b[32m[I 2023-03-01 18:57:25,300]\u001b[0m Trial 15 finished with value: 0.7863325142270781 and parameters: {'sm_ratio': 0.20556745753155298, 'sm_neighbors': 4, 'C': 4.95514911826439, 'penalty': 'l2'}. Best is trial 9 with value: 0.7869496858112687.\u001b[0m\n",
      "\u001b[32m[I 2023-03-01 18:57:44,336]\u001b[0m Trial 16 finished with value: 0.7865762841694229 and parameters: {'sm_ratio': 0.9169351981174308, 'sm_neighbors': 7, 'C': 2.7211443215180076, 'penalty': 'l2'}. Best is trial 9 with value: 0.7869496858112687.\u001b[0m\n",
      "\u001b[32m[I 2023-03-01 18:58:02,789]\u001b[0m Trial 17 finished with value: 0.7862994826226614 and parameters: {'sm_ratio': 0.7661448783141411, 'sm_neighbors': 4, 'C': 3.6765767067238384, 'penalty': 'l2'}. Best is trial 9 with value: 0.7869496858112687.\u001b[0m\n",
      "\u001b[32m[I 2023-03-01 18:58:17,964]\u001b[0m Trial 18 finished with value: 0.7862238210539437 and parameters: {'sm_ratio': 0.7782538347367696, 'sm_neighbors': 6, 'C': 4.565733983853467, 'penalty': 'l2'}. Best is trial 9 with value: 0.7869496858112687.\u001b[0m\n",
      "\u001b[32m[I 2023-03-01 18:58:38,003]\u001b[0m Trial 19 finished with value: 0.7861933975441858 and parameters: {'sm_ratio': 0.928134502433556, 'sm_neighbors': 3, 'C': 3.762329902370795, 'penalty': 'l2'}. Best is trial 9 with value: 0.7869496858112687.\u001b[0m\n",
      "\u001b[32m[I 2023-03-01 18:58:53,199]\u001b[0m Trial 20 finished with value: 0.7855638229256757 and parameters: {'sm_ratio': 0.9216094624396791, 'sm_neighbors': 5, 'C': 4.430517609444278, 'penalty': 'l2'}. Best is trial 9 with value: 0.7869496858112687.\u001b[0m\n",
      "\u001b[32m[I 2023-03-01 18:59:06,003]\u001b[0m Trial 21 finished with value: 0.7859884373450783 and parameters: {'sm_ratio': 0.9300518893454632, 'sm_neighbors': 7, 'C': 2.4905943577229133, 'penalty': 'l2'}. Best is trial 9 with value: 0.7869496858112687.\u001b[0m\n",
      "\u001b[32m[I 2023-03-01 18:59:18,597]\u001b[0m Trial 22 finished with value: 0.7859899748182995 and parameters: {'sm_ratio': 0.9969706245888892, 'sm_neighbors': 7, 'C': 2.961897246975582, 'penalty': 'l2'}. Best is trial 9 with value: 0.7869496858112687.\u001b[0m\n",
      "\u001b[32m[I 2023-03-01 18:59:31,491]\u001b[0m Trial 23 finished with value: 0.7862633773378394 and parameters: {'sm_ratio': 0.7631576294839679, 'sm_neighbors': 8, 'C': 2.842410997943262, 'penalty': 'l2'}. Best is trial 9 with value: 0.7869496858112687.\u001b[0m\n",
      "\u001b[32m[I 2023-03-01 18:59:43,866]\u001b[0m Trial 24 finished with value: 0.7860053959583773 and parameters: {'sm_ratio': 0.90011398166983, 'sm_neighbors': 8, 'C': 3.6158612078053887, 'penalty': 'l2'}. Best is trial 9 with value: 0.7869496858112687.\u001b[0m\n",
      "\u001b[32m[I 2023-03-01 18:59:55,563]\u001b[0m Trial 25 finished with value: 0.7861494673383448 and parameters: {'sm_ratio': 0.8618281257350867, 'sm_neighbors': 7, 'C': 2.1484465652279976, 'penalty': 'l2'}. Best is trial 9 with value: 0.7869496858112687.\u001b[0m\n",
      "\u001b[32m[I 2023-03-01 19:00:07,209]\u001b[0m Trial 26 finished with value: 0.786016023451541 and parameters: {'sm_ratio': 0.9335341610832504, 'sm_neighbors': 9, 'C': 3.8246070776295795, 'penalty': None}. Best is trial 9 with value: 0.7869496858112687.\u001b[0m\n",
      "\u001b[32m[I 2023-03-01 19:00:19,072]\u001b[0m Trial 27 finished with value: 0.7861271022477834 and parameters: {'sm_ratio': 0.8125337238127263, 'sm_neighbors': 6, 'C': 4.566429703179866, 'penalty': 'l2'}. Best is trial 9 with value: 0.7869496858112687.\u001b[0m\n",
      "\u001b[32m[I 2023-03-01 19:00:31,199]\u001b[0m Trial 28 finished with value: 0.785570994994898 and parameters: {'sm_ratio': 0.7397417452629205, 'sm_neighbors': 5, 'C': 3.264468436006197, 'penalty': 'l2'}. Best is trial 9 with value: 0.7869496858112687.\u001b[0m\n",
      "\u001b[32m[I 2023-03-01 19:00:43,853]\u001b[0m Trial 29 finished with value: 0.7862172307162365 and parameters: {'sm_ratio': 0.9007596078792509, 'sm_neighbors': 5, 'C': 1.5813443261451985, 'penalty': None}. Best is trial 9 with value: 0.7869496858112687.\u001b[0m\n",
      "\u001b[32m[I 2023-03-01 19:00:57,586]\u001b[0m Trial 30 finished with value: 0.7863895370616427 and parameters: {'sm_ratio': 0.9594705940091055, 'sm_neighbors': 4, 'C': 2.7765767130037253, 'penalty': 'l2'}. Best is trial 9 with value: 0.7869496858112687.\u001b[0m\n",
      "\u001b[32m[I 2023-03-01 19:01:12,608]\u001b[0m Trial 31 finished with value: 0.7863209956273736 and parameters: {'sm_ratio': 0.8756845646425324, 'sm_neighbors': 3, 'C': 4.243571117042373, 'penalty': 'l2'}. Best is trial 9 with value: 0.7869496858112687.\u001b[0m\n",
      "\u001b[32m[I 2023-03-01 19:01:26,456]\u001b[0m Trial 32 finished with value: 0.786424395454962 and parameters: {'sm_ratio': 0.6978288963239573, 'sm_neighbors': 3, 'C': 4.481337002414007, 'penalty': 'l2'}. Best is trial 9 with value: 0.7869496858112687.\u001b[0m\n",
      "\u001b[32m[I 2023-03-01 19:01:40,601]\u001b[0m Trial 33 finished with value: 0.7863350353655192 and parameters: {'sm_ratio': 0.8013423627645404, 'sm_neighbors': 4, 'C': 3.507602803140268, 'penalty': 'l2'}. Best is trial 9 with value: 0.7869496858112687.\u001b[0m\n",
      "\u001b[32m[I 2023-03-01 19:01:53,985]\u001b[0m Trial 34 finished with value: 0.7862294296785796 and parameters: {'sm_ratio': 0.4950151104835227, 'sm_neighbors': 3, 'C': 4.724119434689639, 'penalty': None}. Best is trial 9 with value: 0.7869496858112687.\u001b[0m\n",
      "\u001b[32m[I 2023-03-01 19:02:07,319]\u001b[0m Trial 35 finished with value: 0.7861121422941364 and parameters: {'sm_ratio': 0.6662798937933507, 'sm_neighbors': 6, 'C': 3.9195319576166194, 'penalty': 'l2'}. Best is trial 9 with value: 0.7869496858112687.\u001b[0m\n",
      "\u001b[32m[I 2023-03-01 19:02:21,510]\u001b[0m Trial 36 finished with value: 0.7857171937418559 and parameters: {'sm_ratio': 0.5959350408298072, 'sm_neighbors': 7, 'C': 4.361367673597508, 'penalty': None}. Best is trial 9 with value: 0.7869496858112687.\u001b[0m\n",
      "\u001b[32m[I 2023-03-01 19:02:35,827]\u001b[0m Trial 37 finished with value: 0.7859518073570362 and parameters: {'sm_ratio': 0.953761105057987, 'sm_neighbors': 4, 'C': 4.045980682407922, 'penalty': 'l2'}. Best is trial 9 with value: 0.7869496858112687.\u001b[0m\n",
      "\u001b[32m[I 2023-03-01 19:02:50,148]\u001b[0m Trial 38 finished with value: 0.786030036960118 and parameters: {'sm_ratio': 0.7109117033489576, 'sm_neighbors': 8, 'C': 3.164513433120324, 'penalty': None}. Best is trial 9 with value: 0.7869496858112687.\u001b[0m\n",
      "\u001b[32m[I 2023-03-01 19:03:03,089]\u001b[0m Trial 39 finished with value: 0.7867287912850669 and parameters: {'sm_ratio': 0.8187301786776752, 'sm_neighbors': 3, 'C': 4.693085292642417, 'penalty': 'l2'}. Best is trial 9 with value: 0.7869496858112687.\u001b[0m\n",
      "\u001b[32m[I 2023-03-01 19:03:16,482]\u001b[0m Trial 40 finished with value: 0.7863954493847077 and parameters: {'sm_ratio': 0.8197757352274038, 'sm_neighbors': 5, 'C': 4.6788110658560855, 'penalty': 'l2'}. Best is trial 9 with value: 0.7869496858112687.\u001b[0m\n",
      "\u001b[32m[I 2023-03-01 19:03:29,862]\u001b[0m Trial 41 finished with value: 0.7864684429204336 and parameters: {'sm_ratio': 0.873842583145821, 'sm_neighbors': 3, 'C': 4.289165025266065, 'penalty': 'l2'}. Best is trial 9 with value: 0.7869496858112687.\u001b[0m\n",
      "\u001b[32m[I 2023-03-01 19:03:43,367]\u001b[0m Trial 42 finished with value: 0.786307832424219 and parameters: {'sm_ratio': 0.9646616672964554, 'sm_neighbors': 3, 'C': 4.705578077290846, 'penalty': 'l2'}. Best is trial 9 with value: 0.7869496858112687.\u001b[0m\n",
      "\u001b[32m[I 2023-03-01 19:03:56,382]\u001b[0m Trial 43 finished with value: 0.7860893451110924 and parameters: {'sm_ratio': 0.8807097487445175, 'sm_neighbors': 3, 'C': 4.22075285607463, 'penalty': 'l2'}. Best is trial 9 with value: 0.7869496858112687.\u001b[0m\n",
      "\u001b[32m[I 2023-03-01 19:04:10,403]\u001b[0m Trial 44 finished with value: 0.7862628694061063 and parameters: {'sm_ratio': 0.4817156875772728, 'sm_neighbors': 4, 'C': 4.906043300217938, 'penalty': 'l2'}. Best is trial 9 with value: 0.7869496858112687.\u001b[0m\n",
      "\u001b[32m[I 2023-03-01 19:04:24,405]\u001b[0m Trial 45 finished with value: 0.786010183534804 and parameters: {'sm_ratio': 0.83819549096579, 'sm_neighbors': 4, 'C': 4.018523904527243, 'penalty': 'l2'}. Best is trial 9 with value: 0.7869496858112687.\u001b[0m\n",
      "\u001b[32m[I 2023-03-01 19:04:37,299]\u001b[0m Trial 46 finished with value: 0.7865148292349472 and parameters: {'sm_ratio': 0.9738971298388676, 'sm_neighbors': 3, 'C': 3.5661494251280317, 'penalty': 'l2'}. Best is trial 9 with value: 0.7869496858112687.\u001b[0m\n",
      "\u001b[32m[I 2023-03-01 19:04:50,340]\u001b[0m Trial 47 finished with value: 0.7860220545421146 and parameters: {'sm_ratio': 0.6351703792893382, 'sm_neighbors': 6, 'C': 4.183308291969637, 'penalty': 'l2'}. Best is trial 9 with value: 0.7869496858112687.\u001b[0m\n",
      "\u001b[32m[I 2023-03-01 19:05:03,296]\u001b[0m Trial 48 finished with value: 0.7861344398967086 and parameters: {'sm_ratio': 0.9187738405341943, 'sm_neighbors': 4, 'C': 3.776524019785324, 'penalty': 'l2'}. Best is trial 9 with value: 0.7869496858112687.\u001b[0m\n",
      "\u001b[32m[I 2023-03-01 19:05:16,093]\u001b[0m Trial 49 finished with value: 0.7864790543270797 and parameters: {'sm_ratio': 0.9879222364878404, 'sm_neighbors': 3, 'C': 4.957234697899014, 'penalty': 'l2'}. Best is trial 9 with value: 0.7869496858112687.\u001b[0m\n",
      "\u001b[32m[I 2023-03-01 19:05:29,793]\u001b[0m Trial 50 finished with value: 0.7862294296785796 and parameters: {'sm_ratio': 0.8387754287269857, 'sm_neighbors': 3, 'C': 3.4248865243276767, 'penalty': None}. Best is trial 9 with value: 0.7869496858112687.\u001b[0m\n",
      "\u001b[32m[I 2023-03-01 19:05:42,983]\u001b[0m Trial 51 finished with value: 0.7868298131832302 and parameters: {'sm_ratio': 0.9711231001445929, 'sm_neighbors': 3, 'C': 3.5044612009757694, 'penalty': 'l2'}. Best is trial 9 with value: 0.7869496858112687.\u001b[0m\n",
      "\u001b[32m[I 2023-03-01 19:05:56,315]\u001b[0m Trial 52 finished with value: 0.7861646790080103 and parameters: {'sm_ratio': 0.9009392910896312, 'sm_neighbors': 4, 'C': 3.929724757148331, 'penalty': 'l2'}. Best is trial 9 with value: 0.7869496858112687.\u001b[0m\n",
      "\u001b[32m[I 2023-03-01 19:06:09,558]\u001b[0m Trial 53 finished with value: 0.7862711325347929 and parameters: {'sm_ratio': 0.9994086448490338, 'sm_neighbors': 3, 'C': 4.392587114871473, 'penalty': 'l2'}. Best is trial 9 with value: 0.7869496858112687.\u001b[0m\n",
      "\u001b[32m[I 2023-03-01 19:06:22,700]\u001b[0m Trial 54 finished with value: 0.7869238323719987 and parameters: {'sm_ratio': 0.9542418499431048, 'sm_neighbors': 5, 'C': 3.661079007410427, 'penalty': 'l2'}. Best is trial 9 with value: 0.7869496858112687.\u001b[0m\n",
      "\u001b[32m[I 2023-03-01 19:06:35,929]\u001b[0m Trial 55 finished with value: 0.7859482738972863 and parameters: {'sm_ratio': 0.9475833699934826, 'sm_neighbors': 7, 'C': 3.091258032181193, 'penalty': 'l2'}. Best is trial 9 with value: 0.7869496858112687.\u001b[0m\n",
      "\u001b[32m[I 2023-03-01 19:06:49,464]\u001b[0m Trial 56 finished with value: 0.7851629858845925 and parameters: {'sm_ratio': 0.9550689640942721, 'sm_neighbors': 5, 'C': 3.6727763338247787, 'penalty': 'l2'}. Best is trial 9 with value: 0.7869496858112687.\u001b[0m\n",
      "\u001b[32m[I 2023-03-01 19:07:02,842]\u001b[0m Trial 57 finished with value: 0.786314263734468 and parameters: {'sm_ratio': 0.9133615876785146, 'sm_neighbors': 5, 'C': 3.3620418501950105, 'penalty': 'l2'}. Best is trial 9 with value: 0.7869496858112687.\u001b[0m\n",
      "\u001b[32m[I 2023-03-01 19:07:16,479]\u001b[0m Trial 58 finished with value: 0.7859354071914653 and parameters: {'sm_ratio': 0.933451446374382, 'sm_neighbors': 6, 'C': 3.8257468404885353, 'penalty': 'l2'}. Best is trial 9 with value: 0.7869496858112687.\u001b[0m\n",
      "\u001b[32m[I 2023-03-01 19:07:30,715]\u001b[0m Trial 59 finished with value: 0.7860826857598952 and parameters: {'sm_ratio': 0.9744324970884413, 'sm_neighbors': 8, 'C': 3.5334930447646467, 'penalty': 'l2'}. Best is trial 9 with value: 0.7869496858112687.\u001b[0m\n",
      "\u001b[32m[I 2023-03-01 19:07:43,605]\u001b[0m Trial 60 finished with value: 0.7850759119409039 and parameters: {'sm_ratio': 0.8842425453701046, 'sm_neighbors': 5, 'C': 3.3033624462732836, 'penalty': 'l2'}. Best is trial 9 with value: 0.7869496858112687.\u001b[0m\n",
      "\u001b[32m[I 2023-03-01 19:07:57,342]\u001b[0m Trial 61 finished with value: 0.7860684201423622 and parameters: {'sm_ratio': 0.9404398378828541, 'sm_neighbors': 4, 'C': 4.093241166447899, 'penalty': 'l2'}. Best is trial 9 with value: 0.7869496858112687.\u001b[0m\n",
      "\u001b[32m[I 2023-03-01 19:08:10,263]\u001b[0m Trial 62 finished with value: 0.7866385879009137 and parameters: {'sm_ratio': 0.8563664430601534, 'sm_neighbors': 3, 'C': 4.520036313500872, 'penalty': 'l2'}. Best is trial 9 with value: 0.7869496858112687.\u001b[0m\n",
      "\u001b[32m[I 2023-03-01 19:08:23,519]\u001b[0m Trial 63 finished with value: 0.7864859652067532 and parameters: {'sm_ratio': 0.8649272407372463, 'sm_neighbors': 3, 'C': 4.5424199845169015, 'penalty': 'l2'}. Best is trial 9 with value: 0.7869496858112687.\u001b[0m\n",
      "\u001b[32m[I 2023-03-01 19:08:36,852]\u001b[0m Trial 64 finished with value: 0.7859826169085824 and parameters: {'sm_ratio': 0.894399673727986, 'sm_neighbors': 9, 'C': 4.727986968622701, 'penalty': 'l2'}. Best is trial 9 with value: 0.7869496858112687.\u001b[0m\n",
      "\u001b[32m[I 2023-03-01 19:08:49,641]\u001b[0m Trial 65 finished with value: 0.7864603002743574 and parameters: {'sm_ratio': 0.852247928194269, 'sm_neighbors': 3, 'C': 3.693409962816921, 'penalty': 'l2'}. Best is trial 9 with value: 0.7869496858112687.\u001b[0m\n",
      "\u001b[32m[I 2023-03-01 19:09:02,723]\u001b[0m Trial 66 finished with value: 0.7862002346092697 and parameters: {'sm_ratio': 0.9133085010540385, 'sm_neighbors': 4, 'C': 4.329219675147087, 'penalty': 'l2'}. Best is trial 9 with value: 0.7869496858112687.\u001b[0m\n",
      "\u001b[32m[I 2023-03-01 19:09:17,567]\u001b[0m Trial 67 finished with value: 0.7861251219367253 and parameters: {'sm_ratio': 0.9757904709451187, 'sm_neighbors': 6, 'C': 4.84714468635949, 'penalty': 'l2'}. Best is trial 9 with value: 0.7869496858112687.\u001b[0m\n",
      "\u001b[32m[I 2023-03-01 19:09:32,666]\u001b[0m Trial 68 finished with value: 0.7865227748347711 and parameters: {'sm_ratio': 0.9997292786875748, 'sm_neighbors': 7, 'C': 4.430061651636011, 'penalty': 'l2'}. Best is trial 9 with value: 0.7869496858112687.\u001b[0m\n",
      "\u001b[32m[I 2023-03-01 19:09:46,317]\u001b[0m Trial 69 finished with value: 0.7862294296785796 and parameters: {'sm_ratio': 0.9357304620378243, 'sm_neighbors': 3, 'C': 3.943407957177535, 'penalty': None}. Best is trial 9 with value: 0.7869496858112687.\u001b[0m\n",
      "\u001b[32m[I 2023-03-01 19:10:00,373]\u001b[0m Trial 70 finished with value: 0.7864885690384832 and parameters: {'sm_ratio': 0.7859780212175892, 'sm_neighbors': 4, 'C': 4.1679295994207015, 'penalty': 'l2'}. Best is trial 9 with value: 0.7869496858112687.\u001b[0m\n",
      "\u001b[32m[I 2023-03-01 19:10:13,700]\u001b[0m Trial 71 finished with value: 0.786332156505029 and parameters: {'sm_ratio': 0.8129465696852758, 'sm_neighbors': 3, 'C': 4.589921114080315, 'penalty': 'l2'}. Best is trial 9 with value: 0.7869496858112687.\u001b[0m\n",
      "\u001b[32m[I 2023-03-01 19:10:27,929]\u001b[0m Trial 72 finished with value: 0.7861954506037165 and parameters: {'sm_ratio': 0.8987132003720048, 'sm_neighbors': 3, 'C': 4.775222291104544, 'penalty': 'l2'}. Best is trial 9 with value: 0.7869496858112687.\u001b[0m\n",
      "\u001b[32m[I 2023-03-01 19:10:42,233]\u001b[0m Trial 73 finished with value: 0.7862712968509193 and parameters: {'sm_ratio': 0.9607868825627698, 'sm_neighbors': 3, 'C': 4.983174490715353, 'penalty': 'l2'}. Best is trial 9 with value: 0.7869496858112687.\u001b[0m\n",
      "\u001b[32m[I 2023-03-01 19:10:57,378]\u001b[0m Trial 74 finished with value: 0.7861918038317948 and parameters: {'sm_ratio': 0.868903700051688, 'sm_neighbors': 3, 'C': 4.0774004657233585, 'penalty': 'l2'}. Best is trial 9 with value: 0.7869496858112687.\u001b[0m\n",
      "\u001b[32m[I 2023-03-01 19:11:12,084]\u001b[0m Trial 75 finished with value: 0.7861070682917404 and parameters: {'sm_ratio': 0.92295762036468, 'sm_neighbors': 4, 'C': 4.573854724430174, 'penalty': 'l2'}. Best is trial 9 with value: 0.7869496858112687.\u001b[0m\n",
      "\u001b[32m[I 2023-03-01 19:11:27,571]\u001b[0m Trial 76 finished with value: 0.7863727210204516 and parameters: {'sm_ratio': 0.8529047979577727, 'sm_neighbors': 3, 'C': 4.431063934363398, 'penalty': 'l2'}. Best is trial 9 with value: 0.7869496858112687.\u001b[0m\n",
      "\u001b[32m[I 2023-03-01 19:11:42,216]\u001b[0m Trial 77 finished with value: 0.7861462543839621 and parameters: {'sm_ratio': 0.9482497918595518, 'sm_neighbors': 5, 'C': 4.830945638444819, 'penalty': 'l2'}. Best is trial 9 with value: 0.7869496858112687.\u001b[0m\n",
      "\u001b[32m[I 2023-03-01 19:11:56,327]\u001b[0m Trial 78 finished with value: 0.7862294296785796 and parameters: {'sm_ratio': 0.8316242872595425, 'sm_neighbors': 3, 'C': 4.22267866367574, 'penalty': None}. Best is trial 9 with value: 0.7869496858112687.\u001b[0m\n",
      "\u001b[32m[I 2023-03-01 19:12:11,338]\u001b[0m Trial 79 finished with value: 0.7862309430933906 and parameters: {'sm_ratio': 0.8871871769103783, 'sm_neighbors': 4, 'C': 4.621920897117835, 'penalty': 'l2'}. Best is trial 9 with value: 0.7869496858112687.\u001b[0m\n",
      "\u001b[32m[I 2023-03-01 19:12:25,785]\u001b[0m Trial 80 finished with value: 0.7861058685933885 and parameters: {'sm_ratio': 0.7981016840079058, 'sm_neighbors': 8, 'C': 3.5160695727407045, 'penalty': 'l2'}. Best is trial 9 with value: 0.7869496858112687.\u001b[0m\n",
      "\u001b[32m[I 2023-03-01 19:12:40,021]\u001b[0m Trial 81 finished with value: 0.78657344001773 and parameters: {'sm_ratio': 0.989108208817793, 'sm_neighbors': 7, 'C': 4.264246441579584, 'penalty': 'l2'}. Best is trial 9 with value: 0.7869496858112687.\u001b[0m\n",
      "\u001b[32m[I 2023-03-01 19:12:54,142]\u001b[0m Trial 82 finished with value: 0.7859749633308888 and parameters: {'sm_ratio': 0.9863144876950836, 'sm_neighbors': 7, 'C': 4.31298144967129, 'penalty': 'l2'}. Best is trial 9 with value: 0.7869496858112687.\u001b[0m\n",
      "\u001b[32m[I 2023-03-01 19:13:07,330]\u001b[0m Trial 83 finished with value: 0.786018114642874 and parameters: {'sm_ratio': 0.9746633315362756, 'sm_neighbors': 7, 'C': 3.8026827527838156, 'penalty': 'l2'}. Best is trial 9 with value: 0.7869496858112687.\u001b[0m\n",
      "\u001b[32m[I 2023-03-01 19:13:20,550]\u001b[0m Trial 84 finished with value: 0.7861498994781935 and parameters: {'sm_ratio': 0.9155193353930282, 'sm_neighbors': 6, 'C': 4.476736461984607, 'penalty': 'l2'}. Best is trial 9 with value: 0.7869496858112687.\u001b[0m\n",
      "\u001b[32m[I 2023-03-01 19:13:33,951]\u001b[0m Trial 85 finished with value: 0.7863280604690107 and parameters: {'sm_ratio': 0.9478384694986878, 'sm_neighbors': 7, 'C': 4.005211643118061, 'penalty': 'l2'}. Best is trial 9 with value: 0.7869496858112687.\u001b[0m\n",
      "\u001b[32m[I 2023-03-01 19:13:47,666]\u001b[0m Trial 86 finished with value: 0.7862058396810782 and parameters: {'sm_ratio': 0.9640524281779832, 'sm_neighbors': 6, 'C': 4.680333412582206, 'penalty': 'l2'}. Best is trial 9 with value: 0.7869496858112687.\u001b[0m\n",
      "\u001b[32m[I 2023-03-01 19:14:03,097]\u001b[0m Trial 87 finished with value: 0.7864769549791302 and parameters: {'sm_ratio': 0.9201630738453536, 'sm_neighbors': 3, 'C': 4.131132601317501, 'penalty': 'l2'}. Best is trial 9 with value: 0.7869496858112687.\u001b[0m\n",
      "\u001b[32m[I 2023-03-01 19:14:17,417]\u001b[0m Trial 88 finished with value: 0.7860556049206314 and parameters: {'sm_ratio': 0.9398698922329367, 'sm_neighbors': 3, 'C': 3.862850134020421, 'penalty': 'l2'}. Best is trial 9 with value: 0.7869496858112687.\u001b[0m\n",
      "\u001b[32m[I 2023-03-01 19:14:31,758]\u001b[0m Trial 89 finished with value: 0.7862089404474939 and parameters: {'sm_ratio': 0.9768832653968476, 'sm_neighbors': 7, 'C': 3.6867434581232104, 'penalty': 'l2'}. Best is trial 9 with value: 0.7869496858112687.\u001b[0m\n",
      "\u001b[32m[I 2023-03-01 19:14:45,736]\u001b[0m Trial 90 finished with value: 0.786030036960118 and parameters: {'sm_ratio': 0.29882095683960624, 'sm_neighbors': 8, 'C': 4.341803120870834, 'penalty': None}. Best is trial 9 with value: 0.7869496858112687.\u001b[0m\n",
      "\u001b[32m[I 2023-03-01 19:14:59,306]\u001b[0m Trial 91 finished with value: 0.7862487564486039 and parameters: {'sm_ratio': 0.9991483314695554, 'sm_neighbors': 7, 'C': 4.815321558921914, 'penalty': 'l2'}. Best is trial 9 with value: 0.7869496858112687.\u001b[0m\n",
      "\u001b[32m[I 2023-03-01 19:15:12,949]\u001b[0m Trial 92 finished with value: 0.7857809127339194 and parameters: {'sm_ratio': 0.9804901113079533, 'sm_neighbors': 7, 'C': 4.392026647108979, 'penalty': 'l2'}. Best is trial 9 with value: 0.7869496858112687.\u001b[0m\n",
      "\u001b[32m[I 2023-03-01 19:15:27,161]\u001b[0m Trial 93 finished with value: 0.7861414819485957 and parameters: {'sm_ratio': 0.9572288450060991, 'sm_neighbors': 7, 'C': 4.479863716148128, 'penalty': 'l2'}. Best is trial 9 with value: 0.7869496858112687.\u001b[0m\n",
      "\u001b[32m[I 2023-03-01 19:15:41,019]\u001b[0m Trial 94 finished with value: 0.7861472608750963 and parameters: {'sm_ratio': 0.9912323755906004, 'sm_neighbors': 7, 'C': 4.217582274697672, 'penalty': 'l2'}. Best is trial 9 with value: 0.7869496858112687.\u001b[0m\n",
      "\u001b[32m[I 2023-03-01 19:15:54,556]\u001b[0m Trial 95 finished with value: 0.7858992566573362 and parameters: {'sm_ratio': 0.9025240098766741, 'sm_neighbors': 8, 'C': 3.433946969782779, 'penalty': 'l2'}. Best is trial 9 with value: 0.7869496858112687.\u001b[0m\n",
      "\u001b[32m[I 2023-03-01 19:16:08,674]\u001b[0m Trial 96 finished with value: 0.7863330278570914 and parameters: {'sm_ratio': 0.9263750910934015, 'sm_neighbors': 6, 'C': 4.648112029269329, 'penalty': 'l2'}. Best is trial 9 with value: 0.7869496858112687.\u001b[0m\n",
      "\u001b[32m[I 2023-03-01 19:16:21,422]\u001b[0m Trial 97 finished with value: 0.7860793480829681 and parameters: {'sm_ratio': 0.9987120497926355, 'sm_neighbors': 3, 'C': 3.225608316071035, 'penalty': 'l2'}. Best is trial 9 with value: 0.7869496858112687.\u001b[0m\n",
      "\u001b[32m[I 2023-03-01 19:16:35,801]\u001b[0m Trial 98 finished with value: 0.786342544591734 and parameters: {'sm_ratio': 0.8760406766743138, 'sm_neighbors': 7, 'C': 3.917039100897062, 'penalty': 'l2'}. Best is trial 9 with value: 0.7869496858112687.\u001b[0m\n",
      "\u001b[32m[I 2023-03-01 19:16:49,181]\u001b[0m Trial 99 finished with value: 0.7858802848545868 and parameters: {'sm_ratio': 0.9026791343297911, 'sm_neighbors': 4, 'C': 4.518786767480195, 'penalty': 'l2'}. Best is trial 9 with value: 0.7869496858112687.\u001b[0m\n"
     ]
    }
   ],
   "source": [
    "optimize_func = partial(objective, X=X_train, y=y_train)\n",
    "\n",
    "study = optuna.create_study(direction='maximize')\n",
    "study.optimize(optimize_func, n_trials=100)"
   ]
  },
  {
   "cell_type": "code",
   "execution_count": 7,
   "metadata": {},
   "outputs": [
    {
     "name": "stdout",
     "output_type": "stream",
     "text": [
      "F1-Macro: 0.7869496858112687\n",
      "Best hyperparameters: {'sm_ratio': 0.9327821000982957, 'sm_neighbors': 3, 'C': 4.805794046023033, 'penalty': 'l2'}\n"
     ]
    }
   ],
   "source": [
    "trial = study.best_trial\n",
    "best_param = trial.params\n",
    "\n",
    "print('F1-Macro: {}'.format(trial.value))\n",
    "print(\"Best hyperparameters: {}\".format(best_param))"
   ]
  },
  {
   "attachments": {},
   "cell_type": "markdown",
   "metadata": {},
   "source": [
    "## Training Model & Evaluation"
   ]
  },
  {
   "cell_type": "code",
   "execution_count": 8,
   "metadata": {},
   "outputs": [],
   "source": [
    "def calculate_metrics_score(y_true, y_pred):\n",
    "    print('Confusion Matrix:\\n', confusion_matrix(y_true, y_pred))\n",
    "    print(classification_report(y_true, y_pred))"
   ]
  },
  {
   "cell_type": "code",
   "execution_count": 9,
   "metadata": {},
   "outputs": [
    {
     "name": "stdout",
     "output_type": "stream",
     "text": [
      "Confusion Matrix:\n",
      " [[33250  4929   595]\n",
      " [ 5209 26979  6586]\n",
      " [   16  4976 33782]]\n",
      "              precision    recall  f1-score   support\n",
      "\n",
      "           1       0.86      0.86      0.86     38774\n",
      "           2       0.73      0.70      0.71     38774\n",
      "           3       0.82      0.87      0.85     38774\n",
      "\n",
      "    accuracy                           0.81    116322\n",
      "   macro avg       0.81      0.81      0.81    116322\n",
      "weighted avg       0.81      0.81      0.81    116322\n",
      "\n"
     ]
    }
   ],
   "source": [
    "sm = SMOTE(k_neighbors=best_param['sm_neighbors'], random_state = 123)\n",
    "model = LogisticRegression(C=best_param['C'], penalty=best_param['penalty'])\n",
    "\n",
    "X_sm, y_sm = sm.fit_resample(X_train, y_train)\n",
    "model.fit(X_sm, y_sm)\n",
    "\n",
    "calculate_metrics_score(y_sm, model.predict(X_sm))"
   ]
  },
  {
   "cell_type": "code",
   "execution_count": 10,
   "metadata": {},
   "outputs": [
    {
     "name": "stdout",
     "output_type": "stream",
     "text": [
      "Confusion Matrix:\n",
      " [[14229  2137   251]\n",
      " [ 1245  6499  1568]\n",
      " [    3   577  4188]]\n",
      "              precision    recall  f1-score   support\n",
      "\n",
      "           1       0.92      0.86      0.89     16617\n",
      "           2       0.71      0.70      0.70      9312\n",
      "           3       0.70      0.88      0.78      4768\n",
      "\n",
      "    accuracy                           0.81     30697\n",
      "   macro avg       0.77      0.81      0.79     30697\n",
      "weighted avg       0.82      0.81      0.81     30697\n",
      "\n"
     ]
    }
   ],
   "source": [
    "y_pred = model.predict(X_test)\n",
    "calculate_metrics_score(y_test, y_pred)"
   ]
  },
  {
   "cell_type": "code",
   "execution_count": 11,
   "metadata": {},
   "outputs": [],
   "source": [
    "model_file = '../model/model_1.pkl'\n",
    "\n",
    "# joblib.dump(model, model_file)\n",
    "model_load = joblib.load(model_file)"
   ]
  },
  {
   "cell_type": "code",
   "execution_count": null,
   "metadata": {},
   "outputs": [],
   "source": []
  }
 ],
 "metadata": {
  "kernelspec": {
   "display_name": "dsls-kernel",
   "language": "python",
   "name": "dsls-kernel"
  },
  "orig_nbformat": 4,
  "vscode": {
   "interpreter": {
    "hash": "55425978113d0db74a03eaf515d7265fb352aa9ac7a98f4c65dfefca375bf712"
   }
  }
 },
 "nbformat": 4,
 "nbformat_minor": 2
}
